{
 "cells": [
  {
   "cell_type": "code",
   "execution_count": null,
   "id": "e0786875-6ddc-4027-89bc-9f63cbcf6e89",
   "metadata": {},
   "outputs": [],
   "source": [
    "import polars as pl\n",
    "import pandas as pd\n",
    "from dvc_pandas import Dataset, Repository\n",
    "\n",
    "etag = '244c4de32d2d0005ae375fe9d0013392' # (from dvctest repo)\n",
    "path = 'https://s3.kausal.tech/datasets/'\n",
    "outdvcpath = 'gpc/potsdam_witterungsbereinigung'\n",
    "units = {'Value': 'dimensionless'}\n",
    "\n",
    "# Go to <path>\n",
    "# Find the key of the content that has the etag of interest\n",
    "key = 'files/md5/58/94ed2d3825ac90f4c01ebec2c31df9'\n",
    "dfl = pl.read_parquet(path + key)\n",
    "dfd = pd.read_parquet(path + key)\n",
    "\n",
    "# Do the edits you need and check output\n",
    "#dfd.index = dfd.index.rename({'energitrager': 'energietrager'})\n",
    "dfl"
   ]
  },
  {
   "cell_type": "code",
   "execution_count": null,
   "id": "1209abbb-5684-45c9-b0e7-83bff53c1f5d",
   "metadata": {},
   "outputs": [],
   "source": [
    "# Store edited dataset\n",
    "ds = Dataset(dfd, identifier = outdvcpath)\n",
    "repo = Repository(repo_url = 'git@github.com:kausaltech/dvctest.git', dvc_remote = 'kausal-s3')\n",
    "repo.push_dataset(ds)\n"
   ]
  }
 ],
 "metadata": {
  "kernelspec": {
   "display_name": "Python 3 (ipykernel)",
   "language": "python",
   "name": "python3"
  },
  "language_info": {
   "codemirror_mode": {
    "name": "ipython",
    "version": 3
   },
   "file_extension": ".py",
   "mimetype": "text/x-python",
   "name": "python",
   "nbconvert_exporter": "python",
   "pygments_lexer": "ipython3",
   "version": "3.11.4"
  }
 },
 "nbformat": 4,
 "nbformat_minor": 5
}
